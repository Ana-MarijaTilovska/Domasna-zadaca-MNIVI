{
 "cells": [
  {
   "cell_type": "markdown",
   "metadata": {
    "kernel": "SoS"
   },
   "source": [
    "# Филтирање на слика во фреквенциски домен\n",
    "## Bandpass Gaussian filter\n",
    "\n",
    "За да филтрираме слика во фреквенциски домен потребно е да ја помножиме сликата во фреквенциски домен со филтерот (кернел) кој е исто така во фреквенциски домен.\n",
    "\n",
    "$$I_{f,filt}=HI_f$$\n",
    "\n",
    "За таа цел потребно е да се вметне Octave функција која ќе креира “Band pass gaussian filter” во фреквенциски домен. Bandpass гаусовиот филтер во фреквенциски домен е дефиниран со равенката: \n",
    "\n",
    "$$H(i,j)=e^{-\\frac{d(i,j)^2}{f_{h}^{2}}}(1-e^{-\\frac{d(i,j)^2}{f_{l}^{2}}})$$\n",
    "\n",
    "Каде што 𝑑(𝑖,𝑗) е евклидовото растојанието на даден пиксел од центарот на сликата, додека 𝑓ℎ и 𝑓 𝑙 се праговите на високите и ниските фреквенции кои сакаме да ги филтрираме. \n",
    " \n",
    "Конверзија на 2D сликата од просторен во фреквенциски домен се прави со користење на Фуриева трансформација. Фуриевата трансформација е дефинирана како:\n",
    "\n",
    "$$F(u,v)=\\int{\\int_{-\\infty}^{\\infty}} f(x,y) e^{-i2\\pi(ux+vy)} dxdy$$\n",
    "\n",
    "А во дискретниот домен горната равенка може да биде преведена како \n",
    "\n",
    "$$F(u,v)=\\sum_{m=-\\infty}^{\\infty}\\sum_{n=-\\infty}^{\\infty} f[m,n]\\cdot e^{-i2\\pi(umx_0+vny_0)}$$\n",
    "\n",
    "Конверзија на 2D сликата од фреквенциски во просторен домен се прави со користење на инверзна Фуриева трансформација. Инверзната Фуриева трансформација е дефинирана како:\n",
    "\n",
    "$$f(x,y)=\\int{\\int_{-\\infty}^{\\infty}} F(u,v) e^{i2\\pi(ux+vy)} dxdy$$\n",
    "\n",
    "А во дискретниот домен горната равенка може да биде преведена како\n",
    "\n",
    "$$f(x,y)=\\sum_{m=-\\infty}^{\\infty}\\sum_{n=-\\infty}^{\\infty} F(m,n)\\cdot e^{i2\\pi(xmu_0+ynv_0)}$$"
   ]
  },
  {
   "cell_type": "code",
   "execution_count": 25,
   "metadata": {
    "kernel": "MATLAB"
   },
   "outputs": [
    {
     "name": "stdout",
     "output_type": "stream",
     "text": [
      "\n"
     ]
    }
   ],
   "source": [
    "original_image=imread('Barbara.tif');\n",
    "%imshow(original_image);title(\"Original image\");\n",
    "furriertransf_image=fft2(original_image);\n",
    "%imshow(furriertransf_image);title(\"Furrier transform of image\");\n",
    "centerfurr_image=fftshift(furriertransf_image);\n",
    "%imshow(centerfurr_image);title(\"Get center of furrier transform of image\");\n",
    "\n",
    "%%file create_filter.m\n",
    "\n",
    "%function filter = create_filter(nx,ny,d0,d1)\n",
    "\n",
    "%filter = ones(nx,ny);\n",
    "\n",
    "%for i = 0:nx-1,\n",
    " %           for j = 0:ny-1\n",
    "  %               dist= sqrt((i-nx/2)^2 + (j-ny/2)^2);\n",
    "   %              filter(i+1,j+1) = exp(-dist^2/(2*(d1^2))).*(1.0-exp(-dist^2/(2*(d0^2))));\n",
    "    %        end\n",
    "%end\n",
    "\n",
    "%filter(nx/2+1,ny/2+1)=1;\n",
    "%end\n",
    "\n",
    "%filtered_image= abs(ifft2(ifftshift(create_filter(566,402,0,0).*centerfurr_image))); "
   ]
  },
  {
   "cell_type": "code",
   "execution_count": null,
   "metadata": {
    "kernel": "SoS"
   },
   "outputs": [],
   "source": []
  }
 ],
 "metadata": {
  "kernelspec": {
   "display_name": "SoS",
   "language": "sos",
   "name": "sos"
  },
  "language_info": {
   "codemirror_mode": "sos",
   "file_extension": ".sos",
   "mimetype": "text/x-sos",
   "name": "sos",
   "nbconvert_exporter": "sos_notebook.converter.SoS_Exporter",
   "pygments_lexer": "sos"
  },
  "sos": {
   "kernels": [
    [
     "MATLAB",
     "matlab",
     "MATLAB",
     "#8ee7f1",
     "octave"
    ],
    [
     "SoS",
     "sos",
     "",
     "",
     "sos"
    ]
   ],
   "panel": {
    "displayed": true,
    "height": 0
   },
   "version": "0.21.0"
  }
 },
 "nbformat": 4,
 "nbformat_minor": 2
}
